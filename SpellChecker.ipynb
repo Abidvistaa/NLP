{
  "nbformat": 4,
  "nbformat_minor": 0,
  "metadata": {
    "colab": {
      "provenance": [],
      "collapsed_sections": []
    },
    "kernelspec": {
      "name": "python3",
      "display_name": "Python 3"
    },
    "language_info": {
      "name": "python"
    }
  },
  "cells": [
    {
      "cell_type": "markdown",
      "source": [
        "**Implementing the Spelling Checker Method**"
      ],
      "metadata": {
        "id": "ubbvKwqPwcKS"
      }
    },
    {
      "cell_type": "code",
      "execution_count": 166,
      "metadata": {
        "id": "B72odoNeozTj"
      },
      "outputs": [],
      "source": [
        "from textblob import Word"
      ]
    },
    {
      "cell_type": "code",
      "source": [
        "inputWord = Word('Klemon')\n",
        "resultWord = inputWord.correct()\n",
        "\n",
        "if resultWord==inputWord:\n",
        "  print('Your input word: \"'+inputWord +'\" was Right')\n",
        "else:\n",
        " print('Sorry!! Your input word: \"'+inputWord +'\" was Wrong!!')\n",
        " print('Corrected Spelling is: \"'+resultWord+'\"')"
      ],
      "metadata": {
        "colab": {
          "base_uri": "https://localhost:8080/"
        },
        "id": "kUIUbe4drTBq",
        "outputId": "247c35b0-2f62-4c87-8aff-e4600e8e2a8c"
      },
      "execution_count": 167,
      "outputs": [
        {
          "output_type": "stream",
          "name": "stdout",
          "text": [
            "Sorry!! Your input word: \"Klemon\" was Wrong!!\n",
            "Corrected Spelling is: \"Lemon\"\n"
          ]
        }
      ]
    },
    {
      "cell_type": "markdown",
      "source": [
        "**Implementing some Regular Expression Methods of NLP**"
      ],
      "metadata": {
        "id": "Z6pZrZD1qQGW"
      }
    },
    {
      "cell_type": "code",
      "source": [
        "import re"
      ],
      "metadata": {
        "id": "GGWIZx7vukq3"
      },
      "execution_count": 168,
      "outputs": []
    },
    {
      "cell_type": "markdown",
      "source": [
        "**Search** a word accroding to the character match of the correct spelled word"
      ],
      "metadata": {
        "id": "vVHAd4fork_N"
      }
    },
    {
      "cell_type": "code",
      "source": [
        "txt = resultWord\n",
        "x = re.search(r\"\\bLem\\w+\", txt)\n",
        "\n",
        "try:\n",
        "  searchOutput = x.group()\n",
        "  print('Success, The matched word is : \"'+searchOutput+'\"')\n",
        "except:\n",
        "  print('Sorry!! There is no matched word!!\"')"
      ],
      "metadata": {
        "colab": {
          "base_uri": "https://localhost:8080/"
        },
        "id": "Dllmbm8Rqh7a",
        "outputId": "95ce8116-57d5-4d87-c589-6a94f10ed274"
      },
      "execution_count": 169,
      "outputs": [
        {
          "output_type": "stream",
          "name": "stdout",
          "text": [
            "Success, The matched word is : \"Lemon\"\n"
          ]
        }
      ]
    },
    {
      "cell_type": "markdown",
      "source": [
        "**Split** the corrected word to List of Characters & **Count** the mispelled and corrected word's Letter"
      ],
      "metadata": {
        "id": "jIztfcRD5_T1"
      }
    },
    {
      "cell_type": "code",
      "source": [
        "wrongLetter = [*inputWord]\n",
        "print(\"The Wrong letters are: \",wrongLetter)\n",
        "wrongLetterCount = len(wrongLetter)\n",
        "print('The Wrong word has:-',wrongLetterCount,'letters')\n",
        "rightLetter = [*searchOutput]\n",
        "print('The Wright letters are: ',rightLetter)\n",
        "rightLetterCount = len(searchOutput)\n",
        "print('The Wright word has:-',rightLetterCount,'letters')\n"
      ],
      "metadata": {
        "colab": {
          "base_uri": "https://localhost:8080/"
        },
        "id": "imAw4lg86bWR",
        "outputId": "fa674bc3-c90f-4005-9ac3-ff92260f2e46"
      },
      "execution_count": 170,
      "outputs": [
        {
          "output_type": "stream",
          "name": "stdout",
          "text": [
            "The Wrong letters are:  ['K', 'l', 'e', 'm', 'o', 'n']\n",
            "The Wrong word has:- 6 letters\n",
            "The Wright letters are:  ['L', 'e', 'm', 'o', 'n']\n",
            "The Wright word has:- 5 letters\n"
          ]
        }
      ]
    }
  ]
}