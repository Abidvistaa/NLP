{
  "nbformat": 4,
  "nbformat_minor": 0,
  "metadata": {
    "colab": {
      "provenance": [],
      "collapsed_sections": []
    },
    "kernelspec": {
      "name": "python3",
      "display_name": "Python 3"
    },
    "language_info": {
      "name": "python"
    }
  },
  "cells": [
    {
      "cell_type": "markdown",
      "source": [
        "**Implementing the Spelling Checker Method**"
      ],
      "metadata": {
        "id": "ubbvKwqPwcKS"
      }
    },
    {
      "cell_type": "code",
      "execution_count": 19,
      "metadata": {
        "id": "B72odoNeozTj"
      },
      "outputs": [],
      "source": [
        "from textblob import Word"
      ]
    },
    {
      "cell_type": "markdown",
      "source": [
        "Just **Getting** a word (nth word) from a String"
      ],
      "metadata": {
        "id": "h_KHHymXVtd-"
      }
    },
    {
      "cell_type": "code",
      "source": [
        "fruitsName=\"Apple Grape Klemon Mango\"\n",
        "count = 0\n",
        "N=3\n",
        "res = \"\"\n",
        "for item in fruitsName:\n",
        "    if item == ' ':\n",
        "        count = count + 1\n",
        "        if count == N:\n",
        "            break\n",
        "        res = \"\"\n",
        "    else :\n",
        "        res = res+item\n",
        "print('Selected word is: \"'+ res+'\"')"
      ],
      "metadata": {
        "id": "_3hbUxyEOvxc",
        "outputId": "4417d85f-0c0d-4ab9-f8fc-3fc0459fef0f",
        "colab": {
          "base_uri": "https://localhost:8080/"
        }
      },
      "execution_count": 20,
      "outputs": [
        {
          "output_type": "stream",
          "name": "stdout",
          "text": [
            "Selected word is: \"Klemon\"\n"
          ]
        }
      ]
    },
    {
      "cell_type": "markdown",
      "source": [
        "**Spelling** Method"
      ],
      "metadata": {
        "id": "v4jdAZ-KV-HD"
      }
    },
    {
      "cell_type": "code",
      "source": [
        "inputWord = Word(res)\n",
        "resultWord = inputWord.correct()\n",
        "\n",
        "if resultWord==inputWord:\n",
        "  print('Your input word: \"'+inputWord +'\" was Right')\n",
        "else:\n",
        " print('Sorry!! Your input word: \"'+inputWord +'\" was Wrong!!')\n",
        " print('Corrected Spelling is: \"'+resultWord+'\"')"
      ],
      "metadata": {
        "id": "kUIUbe4drTBq",
        "outputId": "a7b630f4-e6aa-4028-c6b3-c46b240028a8",
        "colab": {
          "base_uri": "https://localhost:8080/"
        }
      },
      "execution_count": 21,
      "outputs": [
        {
          "output_type": "stream",
          "name": "stdout",
          "text": [
            "Sorry!! Your input word: \"Klemon\" was Wrong!!\n",
            "Corrected Spelling is: \"Lemon\"\n"
          ]
        }
      ]
    },
    {
      "cell_type": "markdown",
      "source": [
        "**Implementing some Regular Expression Methods of NLP**"
      ],
      "metadata": {
        "id": "Z6pZrZD1qQGW"
      }
    },
    {
      "cell_type": "code",
      "source": [
        "import re"
      ],
      "metadata": {
        "id": "GGWIZx7vukq3"
      },
      "execution_count": 22,
      "outputs": []
    },
    {
      "cell_type": "markdown",
      "source": [
        "**Search** a word accroding to the character match of the correct spelled word"
      ],
      "metadata": {
        "id": "vVHAd4fork_N"
      }
    },
    {
      "cell_type": "code",
      "source": [
        "txt = resultWord\n",
        "x = re.search(r\"\\bLem\\w+\", txt)\n",
        "\n",
        "try:\n",
        "  searchOutput = x.group()\n",
        "  print('Success, The matched word is : \"'+searchOutput+'\"')\n",
        "except:\n",
        "  print('Sorry!! There is no matched word!!\"')"
      ],
      "metadata": {
        "id": "Dllmbm8Rqh7a",
        "outputId": "bd1030bb-ebda-4d91-8cbb-e7ded9da9bdf",
        "colab": {
          "base_uri": "https://localhost:8080/"
        }
      },
      "execution_count": 23,
      "outputs": [
        {
          "output_type": "stream",
          "name": "stdout",
          "text": [
            "Success, The matched word is : \"Lemon\"\n"
          ]
        }
      ]
    },
    {
      "cell_type": "markdown",
      "source": [
        "**Split** the corrected word to List of Characters & **Count** the mispelled and corrected word's Letter"
      ],
      "metadata": {
        "id": "jIztfcRD5_T1"
      }
    },
    {
      "cell_type": "code",
      "source": [
        "wrongLetter = [*inputWord]\n",
        "print(\"The Wrong letters are: \",wrongLetter)\n",
        "wrongLetterCount = len(wrongLetter)\n",
        "print('The Wrong word has:',wrongLetterCount,'letters')\n",
        "rightLetter = [*searchOutput]\n",
        "print('The Wright letters are: ',rightLetter)\n",
        "rightLetterCount = len(searchOutput)\n",
        "print('The Wright word has:',rightLetterCount,'letters')\n"
      ],
      "metadata": {
        "id": "imAw4lg86bWR",
        "outputId": "6378037a-149c-4d40-b849-a46738529a2e",
        "colab": {
          "base_uri": "https://localhost:8080/"
        }
      },
      "execution_count": 24,
      "outputs": [
        {
          "output_type": "stream",
          "name": "stdout",
          "text": [
            "The Wrong letters are:  ['K', 'l', 'e', 'm', 'o', 'n']\n",
            "The Wrong word has: 6 letters\n",
            "The Wright letters are:  ['L', 'e', 'm', 'o', 'n']\n",
            "The Wright word has: 5 letters\n"
          ]
        }
      ]
    }
  ]
}